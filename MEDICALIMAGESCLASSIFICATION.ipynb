{
  "nbformat": 4,
  "nbformat_minor": 0,
  "metadata": {
    "colab": {
      "name": "MEDICALIMAGESCLASSIFICATION.ipynb",
      "provenance": [],
      "collapsed_sections": []
    },
    "kernelspec": {
      "name": "python3",
      "display_name": "Python 3"
    },
    "language_info": {
      "name": "python"
    }
  },
  "cells": [
    {
      "cell_type": "code",
      "execution_count": 1,
      "metadata": {
        "colab": {
          "base_uri": "https://localhost:8080/"
        },
        "id": "Jc_-81yqRygu",
        "outputId": "7568acf8-a4ed-4f3d-9574-5d7ceeda9e9e"
      },
      "outputs": [
        {
          "output_type": "stream",
          "name": "stdout",
          "text": [
            "Mounted at /content/drive\n"
          ]
        }
      ],
      "source": [
        "# mounting Google Drive\n",
        "from google.colab import drive\n",
        "drive.mount('/content/drive')"
      ]
    },
    {
      "cell_type": "code",
      "source": [
        "!unzip /content/drive/MyDrive/archive.zip"
      ],
      "metadata": {
        "id": "96g8HyXHSBON"
      },
      "execution_count": null,
      "outputs": []
    },
    {
      "cell_type": "code",
      "source": [
        "import os, time\n",
        "import numpy as np\n",
        "import pandas as pd\n",
        "import tensorflow as tf\n",
        "from tensorflow import keras\n",
        "from tensorflow.keras import layers\n",
        "from tensorflow.keras.preprocessing.image import ImageDataGenerator\n",
        "from tensorflow.keras.models import Sequential\n",
        "from tensorflow.keras.layers import Dense,Dropout,Activation,Flatten,Conv2D,MaxPooling2D\n",
        "from keras import models\n",
        "import matplotlib.image as mpimg\n",
        "import matplotlib.pyplot as plt"
      ],
      "metadata": {
        "id": "ze92x3NuSKt0"
      },
      "execution_count": 3,
      "outputs": []
    },
    {
      "cell_type": "code",
      "source": [
        "PATH = '/content/archive/Train'\n",
        "TESTPATH = '/content/archive/Test'\n",
        "image_width = 64\n",
        "image_height = 64\n",
        "batch_size = 32\n",
        "image_shape=(64,64,2)\n",
        "classes = os.listdir(PATH)\n",
        "print(classes)"
      ],
      "metadata": {
        "colab": {
          "base_uri": "https://localhost:8080/"
        },
        "id": "8JDmlYd-SNJZ",
        "outputId": "c3a1bd16-6c5a-4ddc-98d7-62c298ae27bf"
      },
      "execution_count": 4,
      "outputs": [
        {
          "output_type": "stream",
          "name": "stdout",
          "text": [
            "['HeadCT', 'ChestCT', 'CXR', 'Hand', 'BreastMRI', 'AbdomenCT']\n"
          ]
        }
      ]
    },
    {
      "cell_type": "code",
      "source": [
        "TRAIN_DATA = ImageDataGenerator(rescale = 1./255, validation_split=0.1)\n",
        "TEST_DATA = ImageDataGenerator(rescale = 1./255)\n",
        "train_data= TRAIN_DATA.flow_from_directory(PATH,target_size=(image_width,image_height),batch_size=batch_size, subset='training')\n",
        "validation_data= TRAIN_DATA.flow_from_directory(PATH,target_size=(image_width,image_height),batch_size=batch_size, subset='validation')\n",
        "test_data = TEST_DATA.flow_from_directory(TESTPATH,target_size=(image_width,image_height),batch_size=batch_size, shuffle=False)"
      ],
      "metadata": {
        "colab": {
          "base_uri": "https://localhost:8080/"
        },
        "id": "vZE2IzqiSSrR",
        "outputId": "56863fb9-ac72-4e71-8996-66f8a32df13b"
      },
      "execution_count": 5,
      "outputs": [
        {
          "output_type": "stream",
          "name": "stdout",
          "text": [
            "Found 43200 images belonging to 6 classes.\n",
            "Found 4800 images belonging to 6 classes.\n",
            "Found 12000 images belonging to 6 classes.\n"
          ]
        }
      ]
    },
    {
      "cell_type": "code",
      "source": [
        "\n",
        "model = keras.Sequential()\n",
        "model.add(layers.Conv2D(32, (3,3), strides=(2,2), padding=\"same\", activation='relu'))\n",
        "model.add(layers.MaxPool2D())\n",
        "model.add(layers.Conv2D(64, (3,3), strides=(2,2), padding=\"same\", activation='relu'))\n",
        "model.add(layers.MaxPool2D())\n",
        "model.add(layers.Conv2D(64, (3,3), strides=(2,2), padding=\"same\", activation='relu'))\n",
        "model.add(layers.MaxPool2D())\n",
        "model.add(layers.Flatten())\n",
        "model.add(layers.Dropout(0.25))\n",
        "model.add(layers.Dense(128, activation='relu'))\n",
        "model.add(layers.Dense(128, activation='relu'))\n",
        "model.add(layers.Dense(len(classes), activation='softmax'))\n",
        "\n",
        "\n",
        "model.compile(\n",
        "             optimizer='adam',\n",
        "             loss=tf.keras.losses.categorical_crossentropy,\n",
        "             metrics=['accuracy']\n",
        "             )\n",
        "\n",
        "actualmodel = model.fit_generator(train_data, epochs=5, validation_data=validation_data)"
      ],
      "metadata": {
        "colab": {
          "base_uri": "https://localhost:8080/"
        },
        "id": "OuYwbBDPSayy",
        "outputId": "ccebb462-6269-42a0-f1b8-a4a7267c053e"
      },
      "execution_count": 6,
      "outputs": [
        {
          "output_type": "stream",
          "name": "stderr",
          "text": [
            "/usr/local/lib/python3.7/dist-packages/ipykernel_launcher.py:27: UserWarning: `Model.fit_generator` is deprecated and will be removed in a future version. Please use `Model.fit`, which supports generators.\n"
          ]
        },
        {
          "output_type": "stream",
          "name": "stdout",
          "text": [
            "Epoch 1/5\n",
            "1350/1350 [==============================] - 60s 44ms/step - loss: 0.0973 - accuracy: 0.9677 - val_loss: 0.0175 - val_accuracy: 0.9958\n",
            "Epoch 2/5\n",
            "1350/1350 [==============================] - 59s 44ms/step - loss: 0.0170 - accuracy: 0.9947 - val_loss: 0.0181 - val_accuracy: 0.9956\n",
            "Epoch 3/5\n",
            "1350/1350 [==============================] - 60s 45ms/step - loss: 0.0095 - accuracy: 0.9968 - val_loss: 0.0111 - val_accuracy: 0.9973\n",
            "Epoch 4/5\n",
            "1350/1350 [==============================] - 60s 44ms/step - loss: 0.0077 - accuracy: 0.9977 - val_loss: 0.0101 - val_accuracy: 0.9958\n",
            "Epoch 5/5\n",
            "1350/1350 [==============================] - 61s 45ms/step - loss: 0.0078 - accuracy: 0.9979 - val_loss: 0.0069 - val_accuracy: 0.9983\n"
          ]
        }
      ]
    },
    {
      "cell_type": "code",
      "source": [
        "print(actualmodel.history)\n",
        "plt.figure(figsize=(10,10))\n",
        "plt.plot(actualmodel.history['accuracy'], label='accuracy', color='green')\n",
        "plt.plot(actualmodel.history['val_accuracy'], label='accuracy', color='red')\n",
        "plt.xlabel('Epoch')\n",
        "plt.ylabel('Accuracy')\n",
        "plt.yticks(np.arange(.90, 1, step=0.02))\n",
        "plt.show()"
      ],
      "metadata": {
        "colab": {
          "base_uri": "https://localhost:8080/",
          "height": 643
        },
        "id": "nvXVga6RUiXS",
        "outputId": "77436b4d-45c2-46ad-8381-1d1daa444299"
      },
      "execution_count": 9,
      "outputs": [
        {
          "output_type": "stream",
          "name": "stdout",
          "text": [
            "{'loss': [0.09727904945611954, 0.017019977793097496, 0.009479389525949955, 0.007684692740440369, 0.007783961016684771], 'accuracy': [0.9676851630210876, 0.9946759343147278, 0.9968286752700806, 0.9977315068244934, 0.9979398250579834], 'val_loss': [0.017459141090512276, 0.018093319609761238, 0.011111984960734844, 0.010143269784748554, 0.0069481427781283855], 'val_accuracy': [0.9958333373069763, 0.9956250190734863, 0.9972916841506958, 0.9958333373069763, 0.9983333349227905]}\n"
          ]
        },
        {
          "output_type": "display_data",
          "data": {
            "text/plain": [
              "<Figure size 720x720 with 1 Axes>"
            ],
            "image/png": "[encoded data removed]"
          },
          "metadata": {
            "needs_background": "light"
          }
        }
      ]
    },
    {
      "cell_type": "code",
      "source": [
        "\n",
        "filenames = test_data.filenames\n",
        "nb_samples = len(filenames)\n",
        "evaluation = model.evaluate_generator(test_data)\n",
        "print(model.metrics_names)\n",
        "print(\"Accuracy : \")\n",
        "print(evaluation[1])\n"
      ],
      "metadata": {
        "colab": {
          "base_uri": "https://localhost:8080/"
        },
        "id": "kBzBMRBpVAVT",
        "outputId": "7793d95e-6d75-4f31-8a8c-4b7e1f714a46"
      },
      "execution_count": 10,
      "outputs": [
        {
          "output_type": "stream",
          "name": "stderr",
          "text": [
            "/usr/local/lib/python3.7/dist-packages/ipykernel_launcher.py:4: UserWarning: `Model.evaluate_generator` is deprecated and will be removed in a future version. Please use `Model.evaluate`, which supports generators.\n",
            "  after removing the cwd from sys.path.\n"
          ]
        },
        {
          "output_type": "stream",
          "name": "stdout",
          "text": [
            "['loss', 'accuracy']\n",
            "Accuracy : \n",
            "0.9982500076293945\n"
          ]
        }
      ]
    },
    {
      "cell_type": "code",
      "source": [
        "print(test_data.classes)\n",
        "pred = model.predict_generator(test_data)\n",
        "y_pred = np.argmax(pred, axis=1)\n",
        "print(y_pred)"
      ],
      "metadata": {
        "colab": {
          "base_uri": "https://localhost:8080/"
        },
        "id": "0Tn5gKqYVfFl",
        "outputId": "15676af7-27ce-4628-fb9b-f9cb0dfa9449"
      },
      "execution_count": 11,
      "outputs": [
        {
          "output_type": "stream",
          "name": "stdout",
          "text": [
            "[0 0 0 ... 5 5 5]\n"
          ]
        },
        {
          "output_type": "stream",
          "name": "stderr",
          "text": [
            "/usr/local/lib/python3.7/dist-packages/ipykernel_launcher.py:2: UserWarning: `Model.predict_generator` is deprecated and will be removed in a future version. Please use `Model.predict`, which supports generators.\n",
            "  \n"
          ]
        },
        {
          "output_type": "stream",
          "name": "stdout",
          "text": [
            "[0 0 0 ... 5 5 5]\n"
          ]
        }
      ]
    },
    {
      "cell_type": "code",
      "source": [
        "import seaborn as sns\n",
        "con_mat = tf.math.confusion_matrix(labels=test_data.classes, predictions=y_pred).numpy()\n",
        "figure = plt.figure(figsize=(10, 10))\n",
        "sns.heatmap(con_mat, annot=True,cmap=\"YlGnBu\")\n",
        "plt.tight_layout()\n",
        "plt.ylabel('True label')\n",
        "plt.xlabel('Predicted label')\n",
        "plt.show()"
      ],
      "metadata": {
        "colab": {
          "base_uri": "https://localhost:8080/",
          "height": 743
        },
        "id": "eYsgAadAVpn6",
        "outputId": "ae1b4321-1f65-4412-8b0c-b1fc39eaa24d"
      },
      "execution_count": 12,
      "outputs": [
        {
          "output_type": "display_data",
          "data": {
            "text/plain": [
              "<Figure size 720x720 with 2 Axes>"
            ],
            "image/png": "[encoded data removed]"
          },
          "metadata": {
            "needs_background": "light"
          }
        }
      ]
    }
  ]
}